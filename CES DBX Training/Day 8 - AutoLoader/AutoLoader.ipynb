{
 "cells": [
  {
   "cell_type": "code",
   "execution_count": 0,
   "metadata": {
    "application/vnd.databricks.v1+cell": {
     "cellMetadata": {
      "byteLimit": 2048000,
      "implicitDf": true,
      "rowLimit": 10000
     },
     "inputWidgets": {},
     "nuid": "3ed0ebc3-3321-4399-a2c9-eedd84ae0c2e",
     "showTitle": false,
     "tableResultSettingsMap": {},
     "title": ""
    }
   },
   "outputs": [],
   "source": [
    "%sql\n",
    "use catalog dev_catalog;\n",
    "create schema if not exists stream;\n",
    "use schema stream; \n",
    "create volume if not exists raw_csv; \n",
    "create volume if not exists checkpoints;\n",
    "create volume if not exists schemalocation "
   ]
  },
  {
   "cell_type": "code",
   "execution_count": 0,
   "metadata": {
    "application/vnd.databricks.v1+cell": {
     "cellMetadata": {
      "byteLimit": 2048000,
      "rowLimit": 10000
     },
     "inputWidgets": {},
     "nuid": "1895fc2b-6649-42a8-a035-840af954157a",
     "showTitle": false,
     "tableResultSettingsMap": {},
     "title": ""
    }
   },
   "outputs": [],
   "source": [
    "schemalocation=\"/Volumes/dev_catalog/stream/schemalocation/auto_emp\"; \n",
    "input_path=\"/Volumes/dev_catalog/stream/raw_csv\" \n",
    "checkpoint=\"/Volumes/dev_catalog/stream/checkpoints/auto_emp\" \n",
    "catalog=\"dev_catalog\" \n",
    "schema=\"stream\" \n",
    "tablename=\"auto_emp\" "
   ]
  },
  {
   "cell_type": "markdown",
   "metadata": {
    "application/vnd.databricks.v1+cell": {
     "cellMetadata": {
      "byteLimit": 2048000,
      "rowLimit": 10000
     },
     "inputWidgets": {},
     "nuid": "3a5b3fe2-cc11-44e1-b018-011b0f14f3d3",
     "showTitle": false,
     "tableResultSettingsMap": {},
     "title": ""
    }
   },
   "source": [
    "use schema stream; \n",
    "create volume if not exists raw_csv; \n",
    "create volume if not exists checkpoints; "
   ]
  },
  {
   "cell_type": "code",
   "execution_count": 0,
   "metadata": {
    "application/vnd.databricks.v1+cell": {
     "cellMetadata": {
      "byteLimit": 2048000,
      "rowLimit": 10000
     },
     "inputWidgets": {},
     "nuid": "ae03b055-40f1-472c-865d-898e6a720421",
     "showTitle": false,
     "tableResultSettingsMap": {},
     "title": ""
    }
   },
   "outputs": [],
   "source": [
    "( \n",
    "spark \n",
    ".readStream \n",
    ".format(\"cloudFiles\") \n",
    ".option(\"cloudFiles.format\",\"csv\") \n",
    ".option(\"cloudFiles.schemaLocation\",schemalocation) \n",
    ".load(input_path,header=True) \n",
    ".writeStream.option(\"checkpointLocation\",checkpoint) \n",
    ".trigger(once=True) \n",
    ".toTable(f\"{catalog}.{schema}.{tablename}\") \n",
    ") "
   ]
  },
  {
   "cell_type": "code",
   "execution_count": 0,
   "metadata": {
    "application/vnd.databricks.v1+cell": {
     "cellMetadata": {
      "byteLimit": 2048000,
      "rowLimit": 10000
     },
     "inputWidgets": {},
     "nuid": "09e0e895-86fa-4133-a885-2c169d149ad0",
     "showTitle": false,
     "tableResultSettingsMap": {},
     "title": ""
    }
   },
   "outputs": [],
   "source": [
    "(\n",
    "spark \n",
    ".readStream \n",
    ".format(\"cloudFiles\") \n",
    ".option(\"cloudFiles.format\",\"csv\") \n",
    ".option(\"cloudFiles.schemaLocation\",schemalocation)\n",
    ".option(\"cloudFiles.schemaEvolutionMode\",\"addNewColumns\")\n",
    ".load(input_path,header=True) \n",
    ".writeStream.option(\"checkpointLocation\",checkpoint) \n",
    ".trigger(once=True) \n",
    ".option(\"mergeSchema\", \"true\") \n",
    ".toTable(f\"{catalog}.{schema}.{tablename}\") \n",
    ") "
   ]
  },
  {
   "cell_type": "code",
   "execution_count": 0,
   "metadata": {
    "application/vnd.databricks.v1+cell": {
     "cellMetadata": {
      "byteLimit": 2048000,
      "rowLimit": 10000
     },
     "inputWidgets": {},
     "nuid": "d409781e-1d59-4fc4-b3f2-a7aae048ab12",
     "showTitle": false,
     "tableResultSettingsMap": {},
     "title": ""
    }
   },
   "outputs": [],
   "source": [
    "(\n",
    "spark \n",
    ".readStream \n",
    ".format(\"cloudFiles\") \n",
    ".option(\"cloudFiles.format\",\"csv\") \n",
    ".option(\"cloudFiles.schemaLocation\",schemalocation)\n",
    ".option(\"cloudFiles.inferColumnTypes\", \"True\")\n",
    ".option(\"cloudFiles.schemaEvolutionMode\",\"rescue\")\n",
    ".load(input_path,header=True) \n",
    ".writeStream.option(\"checkpointLocation\",checkpoint) \n",
    ".trigger(once=True) \n",
    ".option(\"mergeSchema\", \"true\") \n",
    ".toTable(f\"{catalog}.{schema}.{tablename}\") \n",
    ") "
   ]
  },
  {
   "cell_type": "code",
   "execution_count": 0,
   "metadata": {
    "application/vnd.databricks.v1+cell": {
     "cellMetadata": {
      "byteLimit": 2048000,
      "rowLimit": 10000
     },
     "inputWidgets": {},
     "nuid": "a0db5342-78af-40cb-a6dd-fb128c76f88a",
     "showTitle": false,
     "tableResultSettingsMap": {},
     "title": ""
    }
   },
   "outputs": [],
   "source": [
    "(\n",
    "spark \n",
    ".readStream \n",
    ".format(\"cloudFiles\") \n",
    ".option(\"cloudFiles.format\",\"csv\") \n",
    ".option(\"cloudFiles.schemaLocation\",schemalocation)\n",
    ".option(\"cloudFiles.inferColumnTypes\", \"True\")\n",
    ".option(\"cloudFiles.schemaEvolutionMode\",\"failOnNewColumns\")\n",
    ".load(input_path,header=True) \n",
    ".writeStream.option(\"checkpointLocation\",checkpoint) \n",
    ".trigger(once=True) \n",
    ".option(\"mergeSchema\", \"true\") \n",
    ".toTable(f\"{catalog}.{schema}.{tablename}\") \n",
    ") "
   ]
  },
  {
   "cell_type": "code",
   "execution_count": 0,
   "metadata": {
    "application/vnd.databricks.v1+cell": {
     "cellMetadata": {
      "byteLimit": 2048000,
      "implicitDf": true,
      "rowLimit": 10000
     },
     "inputWidgets": {},
     "nuid": "ee8f17a9-f6c3-49c1-9352-fe67cfa03ad2",
     "showTitle": false,
     "tableResultSettingsMap": {
      "0": {
       "dataGridStateBlob": "{\"version\":1,\"tableState\":{\"columnPinning\":{\"left\":[\"#row_number#\"],\"right\":[]},\"columnSizing\":{\"_rescued_data\":207},\"columnVisibility\":{}},\"settings\":{\"columns\":{}},\"syncTimestamp\":1754717969028}",
       "filterBlob": null,
       "queryPlanFiltersBlob": null,
       "tableResultIndex": 0
      }
     },
     "title": ""
    }
   },
   "outputs": [],
   "source": [
    "%sql\n",
    "select * from dev_catalog.stream.auto_emp;"
   ]
  }
 ],
 "metadata": {
  "application/vnd.databricks.v1+notebook": {
   "computePreferences": null,
   "dashboards": [],
   "environmentMetadata": {
    "base_environment": "",
    "environment_version": "2"
   },
   "inputWidgetPreferences": null,
   "language": "python",
   "notebookMetadata": {
    "mostRecentlyExecutedCommandWithImplicitDF": {
     "commandId": 3022554750634330,
     "dataframes": [
      "_sqldf"
     ]
    },
    "pythonIndentUnit": 4
   },
   "notebookName": "AutoLoader",
   "widgets": {}
  },
  "language_info": {
   "name": "python"
  }
 },
 "nbformat": 4,
 "nbformat_minor": 0
}
